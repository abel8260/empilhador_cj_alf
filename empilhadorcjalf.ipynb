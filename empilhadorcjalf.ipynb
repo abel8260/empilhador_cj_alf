{
 "cells": [
  {
   "cell_type": "code",
   "execution_count": 1,
   "id": "6faef124",
   "metadata": {},
   "outputs": [
    {
     "data": {
      "text/plain": [
       "'\\n\\npyautogui.leftClick(50,50)#clica no canto superior esquerdo xlsx shop novos\\n\\n\\n\\n\\npyautogui.hotkey(\"ctrl\",\"c\")#copia \\n\\n\\n\\npyautogui.leftClick(x=920, y=540)#clica no nome do item por extenso em php my admin\\n\\npyautogui.hotkey(\"ctrl\",\"v\")#cola\\n\\npyautogui.leftClick(50,50)#clica no canto superior esquerdo xlsx shop novos\\npyautogui.leftClick(350,320)#clica no campo do nome\\n\\n\\npyautogui.hotkey(\"ctrl\",\"c\")\\n\\npyautogui.leftClick(576, 54)#clica no phpmy admin aba\\n\\npyautogui.click(x=576, y=54)\\n\\npyautogui.scroll(round)\\npyautogui.hotkey(\"ctrl\",\"c\")\\npyautogui.hotkey(\"ctrl\",\"t\")\\npyautogui.leftClick(400,100)\\npyautogui.leftClick(493,335)\\npyautogui.leftClick(50,50)\\npyautogui.leftClick(350,320)\\npyautogui.leftClick(x=920, y=540)\\npyautogui.hotkey(\"ctrl\",\"v\")'"
      ]
     },
     "execution_count": 1,
     "metadata": {},
     "output_type": "execute_result"
    }
   ],
   "source": [
    "import pyautogui \n",
    "import pyperclip\n",
    "pyautogui.PAUSE = 3\n",
    "\n",
    "pyautogui.hotkey(\"ctrl\",\"t\")#nova aba\n",
    "pyautogui.leftClick(400,100)#clica na url da nova tab\n",
    "pyperclip.copy(\"http://localhost/phpmyadmin/index.php?route=/table/change&db=sigdu&table=shops\")#copia em backend\n",
    "pyautogui.hotkey(\"ctrl\",\"v\")#cola\n",
    "pyautogui.press(\"ENTER\")\n",
    "pyautogui.leftClick(50,50)#clica no canto superior esquerdo xlsx shop novos\n",
    "pyautogui.leftClick(350,320)#clica no campo do codigo do arquivo no shop novos aba\n",
    "pyautogui.click(x=350,y=320, clicks=3)#clica 3x no campo do nome\n",
    "pyautogui.hotkey(\"ctrl\",\"c\")#copia\n",
    "pyautogui.leftClick(x=511, y=50)#clica na aba do php myadmin\n",
    "pyautogui.leftClick(820,640)#clica em nome por extenso na shop_novos aba\n",
    "pyautogui.hotkey(\"ctrl\",\"v\")#cola\n",
    "\n",
    "\n",
    "\n",
    "pyautogui.leftClick(50,50)#clica no canto superior esquerdo xlsx shop novos\n",
    "pyautogui.leftClick(350,320)#clica no campo do codigo do arquivo no shop novos aba\n",
    "pyautogui.click(x=471,y=328, clicks=3)#clica 3x no campo do nome\n",
    "pyautogui.hotkey(\"ctrl\",\"c\")#copia\n",
    "pyautogui.leftClick(x=511, y=50)#clica na aba do php myadmin\n",
    "pyautogui.click(x=1357, y=720)#clica na arrow ui\n",
    "pyautogui.click(x=807,y=706, clicks=2)#clica 2x\n",
    "pyautogui.hotkey(\"ctrl\",\"v\")#cola\n",
    "\n",
    "\n",
    "\n",
    "pyautogui.leftClick(50,50)#clica no canto superior esquerdo xlsx shop novos\n",
    "pyautogui.leftClick(350,320)#clica no campo do codigo do arquivo no shop novos aba\n",
    "pyautogui.click(x=789,y=320, clicks=3)#clica 3x no campo do gold\n",
    "pyautogui.hotkey(\"ctrl\",\"c\")#copia\n",
    "pyautogui.leftClick(x=511, y=50)#clica na aba do php myadmin\n",
    "pyautogui.click(x=1357, y=720, clicks=9)#clica na arrow ui\n",
    "pyautogui.click(x=744,y=669, clicks=2)#clica 2x\n",
    "pyautogui.hotkey(\"ctrl\",\"v\")#cola\n",
    "pyautogui.press(\"ENTER\")#da enter\n",
    "\n",
    "\n",
    "\"\"\"\n",
    "\n",
    "Português brasileiro:\n",
    "\n",
    "Notas de bordo: o empilhador colocar a primeira linha do shops_novos na ultima linha da tabela 'sigdu'.'shops' do \n",
    "do jogo de Reinos de Sigdu Kingdom. Como se fosse uma empilhadeira mesmo.\n",
    "\n",
    "Configuração: shops novos na primeira aba aberto com o google sheets. a segunda aba com o jupyter notebook aberto do\n",
    "anaconda3. e deixar livres só essas duas abas. P.S.: Deve estar logado no php my admin pra evitar login. E lembre que \n",
    "funciona apenas nestas duas dataframes.(sigdu.sql e shops_novos.xlsx)\n",
    "\n",
    "English:\n",
    "\n",
    "Notes on board: the stacker puts the first row of shops_novos in the last row of table 'sigdu'.'shops' of\n",
    "from the Sigdu Kingdom Kingdoms game. Like a forklift.\n",
    "\n",
    "Configuration: new shops in the first tab opened with google sheets. the second tab with the jupyter notebook open from the\n",
    "anaconda3. and leave only these two tabs free. P.S.: Must be logged in php my admin to avoid login. And remember that\n",
    "works only on these two dataframes. (sigdu.sql and shops_novos.xlsx)\n",
    "\"\"\""
   ]
  },
  {
   "cell_type": "code",
   "execution_count": null,
   "id": "e41c3f52",
   "metadata": {},
   "outputs": [],
   "source": []
  }
 ],
 "metadata": {
  "kernelspec": {
   "display_name": "Python 3 (ipykernel)",
   "language": "python",
   "name": "python3"
  },
  "language_info": {
   "codemirror_mode": {
    "name": "ipython",
    "version": 3
   },
   "file_extension": ".py",
   "mimetype": "text/x-python",
   "name": "python",
   "nbconvert_exporter": "python",
   "pygments_lexer": "ipython3",
   "version": "3.9.12"
  }
 },
 "nbformat": 4,
 "nbformat_minor": 5
}
