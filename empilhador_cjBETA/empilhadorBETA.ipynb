{
 "cells": [
  {
   "cell_type": "code",
   "execution_count": 75,
   "id": "6faef124",
   "metadata": {},
   "outputs": [
    {
     "data": {
      "text/plain": [
       "'\\n\\npyautogui.leftClick(50,50)#clica no canto superior esquerdo xlsx shop novos\\n\\n\\n\\n\\npyautogui.hotkey(\"ctrl\",\"c\")#copia \\n\\n\\n\\npyautogui.leftClick(x=920, y=540)#clica no nome do item por extenso em php my admin\\n\\npyautogui.hotkey(\"ctrl\",\"v\")#cola\\n\\npyautogui.leftClick(50,50)#clica no canto superior esquerdo xlsx shop novos\\npyautogui.leftClick(350,320)#clica no campo do nome\\n\\n\\npyautogui.hotkey(\"ctrl\",\"c\")\\n\\npyautogui.leftClick(576, 54)#clica no phpmy admin aba\\n\\npyautogui.click(x=576, y=54)\\n\\npyautogui.scroll(round)\\npyautogui.hotkey(\"ctrl\",\"c\")\\npyautogui.hotkey(\"ctrl\",\"t\")\\npyautogui.leftClick(400,100)\\npyautogui.leftClick(493,335)\\npyautogui.leftClick(50,50)\\npyautogui.leftClick(350,320)\\npyautogui.leftClick(x=920, y=540)\\npyautogui.hotkey(\"ctrl\",\"v\")'"
      ]
     },
     "execution_count": 75,
     "metadata": {},
     "output_type": "execute_result"
    }
   ],
   "source": [
    "import pyautogui \n",
    "import pyperclip\n",
    "pyautogui.PAUSE = 3\n",
    "\n",
    "pyautogui.hotkey(\"ctrl\",\"t\")#nova aba\n",
    "pyautogui.leftClick(400,100)#clica na url da nova tab\n",
    "pyperclip.copy(\"http://localhost/phpmyadmin/index.php?route=/table/change&db=sigdu&table=shops\")#copia em backend\n",
    "pyautogui.hotkey(\"ctrl\",\"v\")#cola\n",
    "pyautogui.press(\"ENTER\")\n",
    "pyautogui.leftClick(50,50)#clica no canto superior esquerdo xlsx shop novos\n",
    "pyautogui.leftClick(350,320)#clica no campo do codigo do arquivo no shop novos aba\n",
    "pyautogui.click(x=350,y=320, clicks=3)#clica 3x no campo do nome\n",
    "pyautogui.hotkey(\"ctrl\",\"c\")#copia\n",
    "pyautogui.leftClick(x=511, y=50)#clica na aba do php myadmin\n",
    "pyautogui.leftClick(820,640)#clica em nome por extenso na shop_novos aba\n",
    "pyautogui.hotkey(\"ctrl\",\"v\")#cola\n",
    "\n",
    "\n",
    "\n",
    "pyautogui.leftClick(50,50)#clica no canto superior esquerdo xlsx shop novos\n",
    "pyautogui.leftClick(350,320)#clica no campo do codigo do arquivo no shop novos aba\n",
    "pyautogui.click(x=471,y=328, clicks=3)#clica 3x no campo do nome\n",
    "pyautogui.hotkey(\"ctrl\",\"c\")#copia\n",
    "pyautogui.leftClick(x=511, y=50)#clica na aba do php myadmin\n",
    "pyautogui.click(x=1357, y=720)#clica na arrow ui\n",
    "pyautogui.click(x=807,y=706, clicks=2)#clica 2x\n",
    "pyautogui.hotkey(\"ctrl\",\"v\")#cola\n",
    "\n",
    "\n",
    "\n",
    "pyautogui.leftClick(50,50)#clica no canto superior esquerdo xlsx shop novos\n",
    "pyautogui.leftClick(350,320)#clica no campo do codigo do arquivo no shop novos aba\n",
    "pyautogui.click(x=789,y=320, clicks=3)#clica 3x no campo do gold\n",
    "pyautogui.hotkey(\"ctrl\",\"c\")#copia\n",
    "pyautogui.leftClick(x=511, y=50)#clica na aba do php myadmin\n",
    "pyautogui.click(x=1357, y=720, clicks=9)#clica na arrow ui\n",
    "pyautogui.click(x=744,y=669, clicks=2)#clica 2x\n",
    "pyautogui.hotkey(\"ctrl\",\"v\")#cola\n",
    "pyautogui.press(\"ENTER\")#da enter\n",
    "\n",
    "\"\"\"\n",
    "\n",
    "pyautogui.leftClick(50,50)#clica no canto superior esquerdo xlsx shop novos\n",
    "\n",
    "\n",
    "\n",
    "\n",
    "pyautogui.hotkey(\"ctrl\",\"c\")#copia \n",
    "\n",
    "\n",
    "\n",
    "pyautogui.leftClick(x=920, y=540)#clica no nome do item por extenso em php my admin\n",
    "\n",
    "pyautogui.hotkey(\"ctrl\",\"v\")#cola\n",
    "\n",
    "pyautogui.leftClick(50,50)#clica no canto superior esquerdo xlsx shop novos\n",
    "pyautogui.leftClick(350,320)#clica no campo do nome\n",
    "\n",
    "\n",
    "pyautogui.hotkey(\"ctrl\",\"c\")\n",
    "\n",
    "pyautogui.leftClick(576, 54)#clica no phpmy admin aba\n",
    "\n",
    "pyautogui.click(x=576, y=54)\n",
    "\n",
    "pyautogui.scroll(round)\n",
    "pyautogui.hotkey(\"ctrl\",\"c\")\n",
    "pyautogui.hotkey(\"ctrl\",\"t\")\n",
    "pyautogui.leftClick(400,100)\n",
    "pyautogui.leftClick(493,335)\n",
    "pyautogui.leftClick(50,50)\n",
    "pyautogui.leftClick(350,320)\n",
    "pyautogui.leftClick(x=920, y=540)\n",
    "pyautogui.hotkey(\"ctrl\",\"v\")\"\"\""
   ]
  },
  {
   "cell_type": "code",
   "execution_count": null,
   "id": "e41c3f52",
   "metadata": {},
   "outputs": [],
   "source": []
  }
 ],
 "metadata": {
  "kernelspec": {
   "display_name": "Python 3 (ipykernel)",
   "language": "python",
   "name": "python3"
  },
  "language_info": {
   "codemirror_mode": {
    "name": "ipython",
    "version": 3
   },
   "file_extension": ".py",
   "mimetype": "text/x-python",
   "name": "python",
   "nbconvert_exporter": "python",
   "pygments_lexer": "ipython3",
   "version": "3.9.12"
  }
 },
 "nbformat": 4,
 "nbformat_minor": 5
}
